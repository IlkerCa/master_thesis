{
 "cells": [
  {
   "cell_type": "code",
   "execution_count": 1,
   "metadata": {},
   "outputs": [
    {
     "name": "stderr",
     "output_type": "stream",
     "text": [
      "Using TensorFlow backend.\n"
     ]
    },
    {
     "name": "stdout",
     "output_type": "stream",
     "text": [
      "[name: \"/device:CPU:0\"\n",
      "device_type: \"CPU\"\n",
      "memory_limit: 268435456\n",
      "locality {\n",
      "}\n",
      "incarnation: 6048206380449247665\n",
      "]\n"
     ]
    },
    {
     "data": {
      "text/plain": [
       "[]"
      ]
     },
     "execution_count": 1,
     "metadata": {},
     "output_type": "execute_result"
    }
   ],
   "source": [
    "from keras import layers\n",
    "from keras import models\n",
    "from keras import regularizers\n",
    "from keras.callbacks import EarlyStopping\n",
    "from keras.callbacks import ModelCheckpoint\n",
    "from keras.preprocessing.image import ImageDataGenerator\n",
    "import matplotlib.pyplot as plt\n",
    "import numpy as np\n",
    "from sklearn.metrics import classification_report, confusion_matrix\n",
    "from itertools import cycle\n",
    "from tensorflow.python.client import device_lib\n",
    "import itertools\n",
    "from keras import backend as K\n",
    "from keras import optimizers\n",
    "from keras.layers.normalization import BatchNormalization\n",
    "import tensorflow as tf\n",
    "sess = tf.Session(config=tf.ConfigProto(log_device_placement=True))\n",
    "\n",
    "print(device_lib.list_local_devices())\n",
    "K.tensorflow_backend._get_available_gpus()"
   ]
  },
  {
   "cell_type": "code",
   "execution_count": 2,
   "metadata": {},
   "outputs": [],
   "source": [
    "def getTargetNames(validation_generator):\n",
    "    dictionary = validation_generator.class_indices\n",
    "    result = []\n",
    "    result_indexes = []\n",
    "    for x in dictionary:\n",
    "        #print(x)\n",
    "        result.append(x)\n",
    "        result_indexes.append(dictionary[x])\n",
    "    return result, result_indexes"
   ]
  },
  {
   "cell_type": "code",
   "execution_count": 12,
   "metadata": {},
   "outputs": [
    {
     "name": "stdout",
     "output_type": "stream",
     "text": [
      "Found 256 images belonging to 3 classes.\n",
      "{'Early_blight': 0, 'Late_blight': 1, 'healthy': 2}\n"
     ]
    }
   ],
   "source": [
    "#train_dir = \"C:/Users/Ilker/Desktop/Tomaten_Voter/train\"\n",
    "#validation_dir = \"C:/Users/Ilker/Desktop/Tomaten_Voter/validation\"\n",
    "test_dir = \"C:/Users/Canpolat/Documents/Uni/masterthesis/voter_Entwurf/Tomaten_Voter/test\"\n",
    "#test_dir = \"C:/Users/Ilker/Desktop/Tomaten_Voter/test\"\n",
    "\n",
    "# Rescales all images by 1/255\n",
    "#rain_datagen = ImageDataGenerator(rescale=1./255)\n",
    "train_datagen = ImageDataGenerator(\n",
    "    rescale=1./255,\n",
    "    rotation_range=40,\n",
    "    width_shift_range=0.2,\n",
    "    height_shift_range=0.2,\n",
    "    shear_range=0.2,\n",
    "    zoom_range=0.3,\n",
    "    horizontal_flip=True,\n",
    "    fill_mode='nearest'\n",
    ")\n",
    "#validation_datagen = ImageDataGenerator(rescale=1./255)\n",
    "validation_datagen = ImageDataGenerator(\n",
    "    rescale=1./255\n",
    ")\n",
    "\n",
    "test_datagen = ImageDataGenerator(\n",
    "    rescale=1./255\n",
    ")\n",
    "\n",
    "\n",
    "#train_generator = train_datagen.flow_from_directory(\n",
    "#    train_dir, # Target directory\n",
    "#    target_size=(150, 150), #Resizes all images to 150 × 150\n",
    "#    batch_size=32,\n",
    "#    class_mode='categorical') #Because you use binary_crossentropy loss, you need binary labels\n",
    "\n",
    "\n",
    "#validation_generator = validation_datagen.flow_from_directory(\n",
    "#    validation_dir,\n",
    "#    target_size=(150, 150),\n",
    "#    batch_size=32,\n",
    "#    class_mode='categorical',\n",
    "#    shuffle=False)\n",
    "\n",
    "test_generator = test_datagen.flow_from_directory(\n",
    "    test_dir,\n",
    "    target_size=(150, 150),\n",
    "    batch_size=32,\n",
    "    class_mode='categorical',\n",
    "    shuffle=False)\n",
    "\n",
    "print(test_generator.class_indices)\n",
    "#target_names, target_index = getTargetNames(validation_generator)"
   ]
  },
  {
   "cell_type": "code",
   "execution_count": 13,
   "metadata": {},
   "outputs": [
    {
     "name": "stdout",
     "output_type": "stream",
     "text": [
      "_________________________________________________________________\n",
      "Layer (type)                 Output Shape              Param #   \n",
      "=================================================================\n",
      "conv2d_9 (Conv2D)            (None, 148, 148, 64)      1792      \n",
      "_________________________________________________________________\n",
      "max_pooling2d_9 (MaxPooling2 (None, 74, 74, 64)        0         \n",
      "_________________________________________________________________\n",
      "dropout_7 (Dropout)          (None, 74, 74, 64)        0         \n",
      "_________________________________________________________________\n",
      "conv2d_10 (Conv2D)           (None, 72, 72, 128)       73856     \n",
      "_________________________________________________________________\n",
      "max_pooling2d_10 (MaxPooling (None, 36, 36, 128)       0         \n",
      "_________________________________________________________________\n",
      "dropout_8 (Dropout)          (None, 36, 36, 128)       0         \n",
      "_________________________________________________________________\n",
      "conv2d_11 (Conv2D)           (None, 34, 34, 256)       295168    \n",
      "_________________________________________________________________\n",
      "max_pooling2d_11 (MaxPooling (None, 17, 17, 256)       0         \n",
      "_________________________________________________________________\n",
      "conv2d_12 (Conv2D)           (None, 15, 15, 256)       590080    \n",
      "_________________________________________________________________\n",
      "max_pooling2d_12 (MaxPooling (None, 7, 7, 256)         0         \n",
      "_________________________________________________________________\n",
      "flatten_3 (Flatten)          (None, 12544)             0         \n",
      "_________________________________________________________________\n",
      "dropout_9 (Dropout)          (None, 12544)             0         \n",
      "_________________________________________________________________\n",
      "dense_5 (Dense)              (None, 150)               1881750   \n",
      "_________________________________________________________________\n",
      "dense_6 (Dense)              (None, 3)                 453       \n",
      "=================================================================\n",
      "Total params: 2,843,099\n",
      "Trainable params: 2,843,099\n",
      "Non-trainable params: 0\n",
      "_________________________________________________________________\n"
     ]
    }
   ],
   "source": [
    "#######Experiermentier Voter1\n",
    "model = models.Sequential()\n",
    "model.add(layers.Conv2D(64, (3, 3), activation='relu',input_shape=(150, 150, 3)))\n",
    "model.add(layers.MaxPooling2D((2, 2)))\n",
    "\n",
    "model.add(layers.Dropout(0.15))\n",
    "model.add(layers.Conv2D(128, (3, 3), activation='relu'))\n",
    "model.add(layers.MaxPooling2D((2, 2)))\n",
    "\n",
    "model.add(layers.Dropout(0.2))\n",
    "model.add(layers.Conv2D(256, (3, 3), activation='relu'))\n",
    "model.add(layers.MaxPooling2D((2, 2)))\n",
    "\n",
    "\n",
    "model.add(layers.Conv2D(256, (3, 3), activation='relu'))\n",
    "model.add(layers.MaxPooling2D((2, 2)))\n",
    "\n",
    "\n",
    "#model.add(layers.Conv2D(256, (3, 3), activation='relu'))\n",
    "#model.add(layers.MaxPooling2D((2, 2)))\n",
    "#model.add(BatchNormalization())\n",
    "\n",
    "model.add(layers.Flatten())\n",
    "model.add(layers.Dropout(0.6))\n",
    "#model.add(layers.Dense(256, activation='relu' ,kernel_regularizer=regularizers.l2(0.002)))\n",
    "model.add(layers.Dense(150, activation='relu', kernel_regularizer=regularizers.l2(0.002)))\n",
    "model.add(layers.Dense(3, activation='softmax'))\n",
    "\n",
    "model.summary()\n",
    "\n",
    "\n",
    "model.compile(loss='categorical_crossentropy',\n",
    "optimizer=optimizers.Adam(lr=1e-3),\n",
    "metrics=['acc'])"
   ]
  },
  {
   "cell_type": "code",
   "execution_count": 14,
   "metadata": {},
   "outputs": [
    {
     "name": "stdout",
     "output_type": "stream",
     "text": [
      "Epoch 1/35\n",
      "230/230 [==============================] - 72s 311ms/step - loss: 0.7905 - acc: 0.6701 - val_loss: 0.7113 - val_acc: 0.7500\n",
      "\n",
      "Epoch 00001: val_loss improved from inf to 0.71133, saving model to C:/Users/Ilker/Desktop/best_model_voter1.h5\n",
      "Epoch 2/35\n",
      "230/230 [==============================] - 56s 243ms/step - loss: 0.4285 - acc: 0.8381 - val_loss: 0.4478 - val_acc: 0.8260\n",
      "\n",
      "Epoch 00002: val_loss improved from 0.71133 to 0.44782, saving model to C:/Users/Ilker/Desktop/best_model_voter1.h5\n",
      "Epoch 3/35\n",
      "230/230 [==============================] - 56s 245ms/step - loss: 0.3548 - acc: 0.8792 - val_loss: 0.3414 - val_acc: 0.8826\n",
      "\n",
      "Epoch 00003: val_loss improved from 0.44782 to 0.34139, saving model to C:/Users/Ilker/Desktop/best_model_voter1.h5\n",
      "Epoch 4/35\n",
      "230/230 [==============================] - 56s 245ms/step - loss: 0.3336 - acc: 0.8821 - val_loss: 0.3492 - val_acc: 0.8632\n",
      "\n",
      "Epoch 00004: val_loss did not improve from 0.34139\n",
      "Epoch 5/35\n",
      "230/230 [==============================] - 56s 245ms/step - loss: 0.3190 - acc: 0.8931 - val_loss: 0.8041 - val_acc: 0.7401\n",
      "\n",
      "Epoch 00005: val_loss did not improve from 0.34139\n",
      "Epoch 6/35\n",
      "230/230 [==============================] - 56s 243ms/step - loss: 0.3123 - acc: 0.8993 - val_loss: 0.4318 - val_acc: 0.8647\n",
      "\n",
      "Epoch 00006: val_loss did not improve from 0.34139\n",
      "Epoch 7/35\n",
      "230/230 [==============================] - 55s 241ms/step - loss: 0.2731 - acc: 0.9150 - val_loss: 0.4830 - val_acc: 0.8237\n",
      "\n",
      "Epoch 00007: val_loss did not improve from 0.34139\n",
      "Epoch 8/35\n",
      "230/230 [==============================] - 56s 242ms/step - loss: 0.2795 - acc: 0.9136 - val_loss: 0.3403 - val_acc: 0.8936\n",
      "\n",
      "Epoch 00008: val_loss improved from 0.34139 to 0.34031, saving model to C:/Users/Ilker/Desktop/best_model_voter1.h5\n",
      "Epoch 9/35\n",
      "230/230 [==============================] - 57s 246ms/step - loss: 0.2720 - acc: 0.9145 - val_loss: 0.5877 - val_acc: 0.8116\n",
      "\n",
      "Epoch 00009: val_loss did not improve from 0.34031\n",
      "Epoch 10/35\n",
      "230/230 [==============================] - 58s 252ms/step - loss: 0.2442 - acc: 0.9331 - val_loss: 0.7388 - val_acc: 0.7842\n",
      "\n",
      "Epoch 00010: val_loss did not improve from 0.34031\n",
      "Epoch 11/35\n",
      "230/230 [==============================] - 57s 248ms/step - loss: 0.2315 - acc: 0.9331 - val_loss: 0.2561 - val_acc: 0.9506\n",
      "\n",
      "Epoch 00011: val_loss improved from 0.34031 to 0.25609, saving model to C:/Users/Ilker/Desktop/best_model_voter1.h5\n",
      "Epoch 12/35\n",
      "230/230 [==============================] - 56s 245ms/step - loss: 0.2264 - acc: 0.9361 - val_loss: 0.3561 - val_acc: 0.8929\n",
      "\n",
      "Epoch 00012: val_loss did not improve from 0.25609\n",
      "Epoch 13/35\n",
      "230/230 [==============================] - 56s 243ms/step - loss: 0.2140 - acc: 0.9391 - val_loss: 0.3467 - val_acc: 0.9088\n",
      "\n",
      "Epoch 00013: val_loss did not improve from 0.25609\n",
      "Epoch 14/35\n",
      "230/230 [==============================] - 56s 242ms/step - loss: 0.1789 - acc: 0.9545 - val_loss: 0.2974 - val_acc: 0.9309\n",
      "\n",
      "Epoch 00014: val_loss did not improve from 0.25609\n",
      "Epoch 15/35\n",
      "230/230 [==============================] - 56s 242ms/step - loss: 0.1863 - acc: 0.9510 - val_loss: 0.3058 - val_acc: 0.9141\n",
      "\n",
      "Epoch 00015: val_loss did not improve from 0.25609\n",
      "Epoch 16/35\n",
      "230/230 [==============================] - 56s 245ms/step - loss: 0.1764 - acc: 0.9548 - val_loss: 0.2842 - val_acc: 0.9286\n",
      "\n",
      "Epoch 00016: val_loss did not improve from 0.25609\n",
      "Epoch 17/35\n",
      "230/230 [==============================] - 56s 245ms/step - loss: 0.1592 - acc: 0.9591 - val_loss: 0.1934 - val_acc: 0.9552\n",
      "\n",
      "Epoch 00017: val_loss improved from 0.25609 to 0.19343, saving model to C:/Users/Ilker/Desktop/best_model_voter1.h5\n",
      "Epoch 18/35\n",
      "230/230 [==============================] - 58s 252ms/step - loss: 0.1606 - acc: 0.9597 - val_loss: 0.2907 - val_acc: 0.9263\n",
      "\n",
      "Epoch 00018: val_loss did not improve from 0.19343\n",
      "Epoch 19/35\n",
      "230/230 [==============================] - 61s 265ms/step - loss: 0.1541 - acc: 0.9620 - val_loss: 0.2382 - val_acc: 0.9369\n",
      "\n",
      "Epoch 00019: val_loss did not improve from 0.19343\n",
      "Epoch 20/35\n",
      "230/230 [==============================] - 61s 266ms/step - loss: 0.1698 - acc: 0.9579 - val_loss: 0.2518 - val_acc: 0.9248\n",
      "\n",
      "Epoch 00020: val_loss did not improve from 0.19343\n",
      "Epoch 21/35\n",
      "230/230 [==============================] - 57s 250ms/step - loss: 0.1571 - acc: 0.9624 - val_loss: 0.1828 - val_acc: 0.9605\n",
      "\n",
      "Epoch 00021: val_loss improved from 0.19343 to 0.18281, saving model to C:/Users/Ilker/Desktop/best_model_voter1.h5\n",
      "Epoch 22/35\n",
      "230/230 [==============================] - 60s 261ms/step - loss: 0.1510 - acc: 0.9628 - val_loss: 0.2114 - val_acc: 0.9438\n",
      "\n",
      "Epoch 00022: val_loss did not improve from 0.18281\n",
      "Epoch 23/35\n",
      "230/230 [==============================] - 61s 267ms/step - loss: 0.1269 - acc: 0.9711 - val_loss: 0.2150 - val_acc: 0.9392\n",
      "\n",
      "Epoch 00023: val_loss did not improve from 0.18281\n",
      "Epoch 24/35\n",
      "230/230 [==============================] - 60s 259ms/step - loss: 0.1484 - acc: 0.9621 - val_loss: 0.3319 - val_acc: 0.9126\n",
      "\n",
      "Epoch 00024: val_loss did not improve from 0.18281\n",
      "Epoch 25/35\n",
      "230/230 [==============================] - 57s 247ms/step - loss: 0.1240 - acc: 0.9716 - val_loss: 0.1637 - val_acc: 0.9569\n",
      "\n",
      "Epoch 00025: val_loss improved from 0.18281 to 0.16367, saving model to C:/Users/Ilker/Desktop/best_model_voter1.h5\n",
      "Epoch 26/35\n",
      "230/230 [==============================] - 58s 252ms/step - loss: 0.1131 - acc: 0.9758 - val_loss: 0.1978 - val_acc: 0.9438\n",
      "\n",
      "Epoch 00026: val_loss did not improve from 0.16367\n",
      "Epoch 27/35\n",
      "230/230 [==============================] - 60s 263ms/step - loss: 0.1238 - acc: 0.9722 - val_loss: 0.3739 - val_acc: 0.8951\n",
      "\n",
      "Epoch 00027: val_loss did not improve from 0.16367\n",
      "Epoch 28/35\n",
      "230/230 [==============================] - 60s 263ms/step - loss: 0.1547 - acc: 0.9640 - val_loss: 0.1997 - val_acc: 0.9468\n",
      "\n",
      "Epoch 00028: val_loss did not improve from 0.16367\n",
      "Epoch 29/35\n",
      "230/230 [==============================] - 61s 265ms/step - loss: 0.1125 - acc: 0.9780 - val_loss: 0.4818 - val_acc: 0.8465\n",
      "\n",
      "Epoch 00029: val_loss did not improve from 0.16367\n",
      "Epoch 30/35\n",
      "230/230 [==============================] - 57s 246ms/step - loss: 0.1300 - acc: 0.9686 - val_loss: 0.1363 - val_acc: 0.9711\n",
      "\n",
      "Epoch 00030: val_loss improved from 0.16367 to 0.13628, saving model to C:/Users/Ilker/Desktop/best_model_voter1.h5\n",
      "Epoch 31/35\n",
      "230/230 [==============================] - 56s 243ms/step - loss: 0.1013 - acc: 0.9792 - val_loss: 0.1213 - val_acc: 0.9742\n",
      "\n",
      "Epoch 00031: val_loss improved from 0.13628 to 0.12128, saving model to C:/Users/Ilker/Desktop/best_model_voter1.h5\n",
      "Epoch 32/35\n",
      "230/230 [==============================] - 55s 241ms/step - loss: 0.1162 - acc: 0.9745 - val_loss: 0.1188 - val_acc: 0.9757\n",
      "\n",
      "Epoch 00032: val_loss improved from 0.12128 to 0.11879, saving model to C:/Users/Ilker/Desktop/best_model_voter1.h5\n",
      "Epoch 33/35\n",
      "230/230 [==============================] - 56s 243ms/step - loss: 0.1004 - acc: 0.9775 - val_loss: 0.1995 - val_acc: 0.9438\n",
      "\n",
      "Epoch 00033: val_loss did not improve from 0.11879\n",
      "Epoch 34/35\n",
      "230/230 [==============================] - 55s 241ms/step - loss: 0.1057 - acc: 0.9754 - val_loss: 0.1968 - val_acc: 0.9506\n",
      "\n",
      "Epoch 00034: val_loss did not improve from 0.11879\n",
      "Epoch 35/35\n",
      "230/230 [==============================] - 56s 242ms/step - loss: 0.0944 - acc: 0.9794 - val_loss: 0.1094 - val_acc: 0.9757\n",
      "\n",
      "Epoch 00035: val_loss improved from 0.11879 to 0.10939, saving model to C:/Users/Ilker/Desktop/best_model_voter1.h5\n"
     ]
    }
   ],
   "source": [
    "es = EarlyStopping(monitor='val_loss', mode='min', verbose=1, patience=15)\n",
    "mc = ModelCheckpoint('C:/Users/Ilker/Desktop/best_model_voter1.h5', monitor='val_loss', mode='min', verbose=1, save_best_only=True)\n",
    "\n",
    "history = model.fit_generator(\n",
    "    train_generator,\n",
    "    steps_per_epoch=230,\n",
    "    epochs=35,\n",
    "    validation_data=validation_generator,\n",
    "    validation_steps=43,\n",
    "    callbacks = [es, mc])"
   ]
  },
  {
   "cell_type": "code",
   "execution_count": null,
   "metadata": {},
   "outputs": [],
   "source": [
    "model.save(\"C:/Users/Ilker/Desktop/dataset/model.h5\")"
   ]
  },
  {
   "cell_type": "code",
   "execution_count": 4,
   "metadata": {},
   "outputs": [
    {
     "name": "stdout",
     "output_type": "stream",
     "text": [
      "WARNING:tensorflow:From C:\\Users\\Canpolat\\Anaconda3\\envs\\masterarbeit\\lib\\site-packages\\keras\\backend\\tensorflow_backend.py:4070: The name tf.nn.max_pool is deprecated. Please use tf.nn.max_pool2d instead.\n",
      "\n",
      "WARNING:tensorflow:Large dropout rate: 0.6 (>0.5). In TensorFlow 2.x, dropout() uses dropout rate instead of keep_prob. Please ensure that this is intended.\n",
      "WARNING:tensorflow:From C:\\Users\\Canpolat\\Anaconda3\\envs\\masterarbeit\\lib\\site-packages\\keras\\backend\\tensorflow_backend.py:422: The name tf.global_variables is deprecated. Please use tf.compat.v1.global_variables instead.\n",
      "\n"
     ]
    }
   ],
   "source": [
    "from keras.models import load_model\n",
    "model = load_model(\"C:/Users/Canpolat/Documents/Uni/masterthesis/voter_Entwurf/best_model_voter1.h5\")"
   ]
  },
  {
   "cell_type": "code",
   "execution_count": 15,
   "metadata": {},
   "outputs": [
    {
     "data": {
      "image/png": "[encoded data removed]",
      "text/plain": [
       "<Figure size 432x288 with 1 Axes>"
      ]
     },
     "metadata": {
      "needs_background": "light"
     },
     "output_type": "display_data"
    },
    {
     "data": {
      "image/png": "[encoded data removed]",
      "text/plain": [
       "<Figure size 432x288 with 1 Axes>"
      ]
     },
     "metadata": {
      "needs_background": "light"
     },
     "output_type": "display_data"
    }
   ],
   "source": [
    "acc = history.history['acc']\n",
    "val_acc = history.history['val_acc']\n",
    "loss = history.history['loss']\n",
    "val_loss = history.history['val_loss']\n",
    "epochs = range(1, len(acc) + 1)\n",
    "plt.plot(epochs, acc, label='Training acc')\n",
    "plt.plot(epochs, val_acc, label='Validation acc')\n",
    "plt.title('Training and validation accuracy')\n",
    "plt.legend()\n",
    "plt.figure()\n",
    "plt.plot(epochs, loss, label='Training loss')\n",
    "plt.plot(epochs, val_loss, label='Validation loss')\n",
    "plt.title('Training and validation loss')\n",
    "plt.legend()\n",
    "plt.show()"
   ]
  },
  {
   "cell_type": "code",
   "execution_count": 15,
   "metadata": {},
   "outputs": [
    {
     "name": "stdout",
     "output_type": "stream",
     "text": [
      "[[ 56   4   0]\n",
      " [  2 107   0]\n",
      " [  0   0  87]]\n",
      "Classification Report\n",
      "              precision    recall  f1-score   support\n",
      "\n",
      "Early_blight       0.97      0.93      0.95        60\n",
      " Late_blight       0.96      0.98      0.97       109\n",
      "     healthy       1.00      1.00      1.00        87\n",
      "\n",
      "    accuracy                           0.98       256\n",
      "   macro avg       0.98      0.97      0.97       256\n",
      "weighted avg       0.98      0.98      0.98       256\n",
      "\n"
     ]
    },
    {
     "data": {
      "image/png": "[encoded data removed]",
      "text/plain": [
       "<Figure size 720x720 with 2 Axes>"
      ]
     },
     "metadata": {
      "needs_background": "light"
     },
     "output_type": "display_data"
    }
   ],
   "source": [
    "#num_of_test_samples = 2719 \n",
    "#Y_pred = model.predict_generator(validation_generator, num_of_test_samples // 32+1)\n",
    "#y_pred = np.argmax(Y_pred, axis=1)\n",
    "#print('Confusion Matrix')\n",
    "#print(confusion_matrix(validation_generator.classes, y_pred))\n",
    "\n",
    "test_generator.reset()\n",
    "names, index = getTargetNames(test_generator)\n",
    "num_of_test_samples = 256#674#1072 #1619\n",
    "steps=np.ceil(num_of_test_samples//32)\n",
    "Y_pred = model.predict_generator(test_generator,steps=steps)\n",
    "y_pred = np.argmax(Y_pred, axis=1)\n",
    "#print('Confusion Matrix')\n",
    "confusion = confusion_matrix(test_generator.classes, y_pred, index)\n",
    "print(confusion)\n",
    "\n",
    "classes = range(3)\n",
    "\n",
    "# create confusion matrix\n",
    "fig = plt.figure(figsize=(10,10))\n",
    "ax = fig.add_subplot(111)\n",
    "cax = ax.matshow(confusion)\n",
    "cmap=plt.cm.Blues\n",
    "plt.imshow(confusion, interpolation='nearest', cmap=cmap)\n",
    "#plt.title('confusion matrix')\n",
    "plt.colorbar()\n",
    "\n",
    "tick_marks = np.arange(len(classes))\n",
    "plt.xticks(tick_marks, names, rotation=45)\n",
    "plt.yticks(tick_marks, names)\n",
    "#plt.yticks(tick_marks, names)\n",
    "\n",
    "thresh = confusion.max()/2\n",
    "for i, j in itertools.product(range(confusion.shape[0]), range(confusion.shape[1])):\n",
    "    plt.text(j, i, confusion[i, j], horizontalalignment='center', color='white' if confusion[i, j] > thresh else 'black')\n",
    "\n",
    "    plt.tight_layout()\n",
    "    plt.ylabel('True label')\n",
    "    plt.xlabel('Predicted label')\n",
    "\n",
    "print('Classification Report')\n",
    "print(classification_report(test_generator.classes, y_pred, target_names=names))"
   ]
  },
  {
   "cell_type": "code",
   "execution_count": null,
   "metadata": {},
   "outputs": [],
   "source": []
  }
 ],
 "metadata": {
  "kernelspec": {
   "display_name": "Python 3",
   "language": "python",
   "name": "python3"
  },
  "language_info": {
   "codemirror_mode": {
    "name": "ipython",
    "version": 3
   },
   "file_extension": ".py",
   "mimetype": "text/x-python",
   "name": "python",
   "nbconvert_exporter": "python",
   "pygments_lexer": "ipython3",
   "version": "3.7.4"
  }
 },
 "nbformat": 4,
 "nbformat_minor": 2
}
