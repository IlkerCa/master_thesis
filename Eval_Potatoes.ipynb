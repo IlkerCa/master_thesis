{
 "cells": [
  {
   "cell_type": "code",
   "execution_count": 1,
   "metadata": {},
   "outputs": [
    {
     "name": "stderr",
     "output_type": "stream",
     "text": [
      "Using TensorFlow backend.\n"
     ]
    },
    {
     "name": "stdout",
     "output_type": "stream",
     "text": [
      "[name: \"/device:CPU:0\"\n",
      "device_type: \"CPU\"\n",
      "memory_limit: 268435456\n",
      "locality {\n",
      "}\n",
      "incarnation: 2962626538980973778\n",
      "]\n"
     ]
    },
    {
     "data": {
      "text/plain": [
       "[]"
      ]
     },
     "execution_count": 1,
     "metadata": {},
     "output_type": "execute_result"
    }
   ],
   "source": [
    "from keras import layers\n",
    "from keras import models\n",
    "from keras import regularizers\n",
    "from keras.callbacks import EarlyStopping\n",
    "from keras.callbacks import ModelCheckpoint\n",
    "from keras.preprocessing.image import ImageDataGenerator\n",
    "import matplotlib.pyplot as plt\n",
    "import numpy as np\n",
    "from sklearn.metrics import classification_report, confusion_matrix\n",
    "from itertools import cycle\n",
    "from tensorflow.python.client import device_lib\n",
    "import itertools\n",
    "from keras import backend as K\n",
    "from keras import optimizers\n",
    "from keras.layers.normalization import BatchNormalization\n",
    "import tensorflow as tf\n",
    "from keras.models import load_model\n",
    "sess = tf.Session(config=tf.ConfigProto(log_device_placement=True))\n",
    "\n",
    "print(device_lib.list_local_devices())\n",
    "K.tensorflow_backend._get_available_gpus()"
   ]
  },
  {
   "cell_type": "code",
   "execution_count": 5,
   "metadata": {},
   "outputs": [],
   "source": [
    "def getTargetNames(validation_generator):\n",
    "    dictionary = validation_generator.class_indices\n",
    "    result = []\n",
    "    result_indexes = []\n",
    "    for x in dictionary:\n",
    "        #print(x)\n",
    "        result.append(x)\n",
    "        result_indexes.append(dictionary[x])\n",
    "    return result, result_indexes"
   ]
  },
  {
   "cell_type": "code",
   "execution_count": 7,
   "metadata": {},
   "outputs": [
    {
     "name": "stdout",
     "output_type": "stream",
     "text": [
      "WARNING:tensorflow:Large dropout rate: 0.6 (>0.5). In TensorFlow 2.x, dropout() uses dropout rate instead of keep_prob. Please ensure that this is intended.\n"
     ]
    }
   ],
   "source": [
    "model = load_model('C:/Users/Canpolat/Documents/Uni/masterthesis/voter_Entwurf/best_model_voter3.h5')"
   ]
  },
  {
   "cell_type": "code",
   "execution_count": 3,
   "metadata": {},
   "outputs": [
    {
     "name": "stdout",
     "output_type": "stream",
     "text": [
      "Found 465 images belonging to 3 classes.\n"
     ]
    }
   ],
   "source": [
    "test_dir = \"C:/Users/Canpolat/Documents/Uni/masterthesis/potatoes\"\n",
    "test_datagen = ImageDataGenerator(\n",
    "    rescale=1./255\n",
    ")\n",
    "test_generator = test_datagen.flow_from_directory(\n",
    "    test_dir,\n",
    "    target_size=(150, 150),\n",
    "    batch_size=32,\n",
    "    class_mode='categorical',\n",
    "    shuffle=False)"
   ]
  },
  {
   "cell_type": "code",
   "execution_count": 8,
   "metadata": {},
   "outputs": [
    {
     "name": "stdout",
     "output_type": "stream",
     "text": [
      "[[ 47  69  37]\n",
      " [ 99  41  12]\n",
      " [ 45 102  13]]\n",
      "Classification Report\n",
      "              precision    recall  f1-score   support\n",
      "\n",
      "early_blight       0.25      0.31      0.27       153\n",
      "     healthy       0.19      0.27      0.23       152\n",
      " late_blight       0.21      0.08      0.12       160\n",
      "\n",
      "    accuracy                           0.22       465\n",
      "   macro avg       0.22      0.22      0.21       465\n",
      "weighted avg       0.22      0.22      0.20       465\n",
      "\n"
     ]
    },
    {
     "data": {
      "image/png": "[encoded data removed]",
      "text/plain": [
       "<Figure size 720x720 with 1 Axes>"
      ]
     },
     "metadata": {
      "needs_background": "light"
     },
     "output_type": "display_data"
    }
   ],
   "source": [
    "#num_of_test_samples = 2719 \n",
    "#Y_pred = model.predict_generator(validation_generator, num_of_test_samples // 32+1)\n",
    "#y_pred = np.argmax(Y_pred, axis=1)\n",
    "#print('Confusion Matrix')\n",
    "#print(confusion_matrix(validation_generator.classes, y_pred))\n",
    "\n",
    "test_generator.reset()\n",
    "names, index = getTargetNames(test_generator)\n",
    "num_of_test_samples = 465  #1619\n",
    "steps=np.ceil(num_of_test_samples//32)+1\n",
    "Y_pred = model.predict_generator(test_generator,steps=steps)\n",
    "y_pred = np.argmax(Y_pred, axis=1)\n",
    "#print('Confusion Matrix')\n",
    "confusion = confusion_matrix(test_generator.classes, y_pred, index)\n",
    "print(confusion)\n",
    "\n",
    "classes = range(3)\n",
    "\n",
    "# create confusion matrix\n",
    "fig = plt.figure(figsize=(10,10))\n",
    "ax = fig.add_subplot(111)\n",
    "cax = ax.matshow(confusion)\n",
    "cmap=plt.cm.Blues\n",
    "plt.imshow(confusion, interpolation='nearest', cmap=cmap)\n",
    "#plt.title('confusion matrix')\n",
    "#plt.colorbar()\n",
    "\n",
    "tick_marks = np.arange(len(classes))\n",
    "plt.xticks(tick_marks, names, rotation=45)\n",
    "plt.yticks(tick_marks, names)\n",
    "#plt.yticks(tick_marks, names)\n",
    "\n",
    "thresh = confusion.max()/2\n",
    "for i, j in itertools.product(range(confusion.shape[0]), range(confusion.shape[1])):\n",
    "    plt.text(j, i, confusion[i, j], horizontalalignment='center', color='white' if confusion[i, j] > thresh else 'black')\n",
    "\n",
    "    plt.tight_layout()\n",
    "    plt.ylabel('True label')\n",
    "    plt.xlabel('Predicted label')\n",
    "\n",
    "print('Classification Report')\n",
    "\n",
    "print(classification_report(test_generator.classes, y_pred, target_names=names))"
   ]
  },
  {
   "cell_type": "code",
   "execution_count": null,
   "metadata": {},
   "outputs": [],
   "source": []
  }
 ],
 "metadata": {
  "kernelspec": {
   "display_name": "Python 3",
   "language": "python",
   "name": "python3"
  },
  "language_info": {
   "codemirror_mode": {
    "name": "ipython",
    "version": 3
   },
   "file_extension": ".py",
   "mimetype": "text/x-python",
   "name": "python",
   "nbconvert_exporter": "python",
   "pygments_lexer": "ipython3",
   "version": "3.7.4"
  }
 },
 "nbformat": 4,
 "nbformat_minor": 2
}
