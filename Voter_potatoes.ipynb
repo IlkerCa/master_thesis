{
 "cells": [
  {
   "cell_type": "code",
   "execution_count": 1,
   "metadata": {},
   "outputs": [
    {
     "name": "stderr",
     "output_type": "stream",
     "text": [
      "Using TensorFlow backend.\n"
     ]
    },
    {
     "name": "stdout",
     "output_type": "stream",
     "text": [
      "[name: \"/device:CPU:0\"\n",
      "device_type: \"CPU\"\n",
      "memory_limit: 268435456\n",
      "locality {\n",
      "}\n",
      "incarnation: 1544785168684701914\n",
      "]\n"
     ]
    },
    {
     "data": {
      "text/plain": [
       "[]"
      ]
     },
     "execution_count": 1,
     "metadata": {},
     "output_type": "execute_result"
    }
   ],
   "source": [
    "from keras import layers\n",
    "from keras import models\n",
    "from keras import regularizers\n",
    "from keras.callbacks import EarlyStopping\n",
    "from keras.callbacks import ModelCheckpoint\n",
    "from keras.preprocessing.image import ImageDataGenerator\n",
    "import matplotlib.pyplot as plt\n",
    "import numpy as np\n",
    "from sklearn.metrics import classification_report, confusion_matrix\n",
    "from itertools import cycle\n",
    "from tensorflow.python.client import device_lib\n",
    "import itertools\n",
    "from keras import backend as K\n",
    "from keras import optimizers\n",
    "from keras.layers.normalization import BatchNormalization\n",
    "import tensorflow as tf\n",
    "from keras.models import load_model\n",
    "sess = tf.Session(config=tf.ConfigProto(log_device_placement=True))\n",
    "\n",
    "print(device_lib.list_local_devices())\n",
    "K.tensorflow_backend._get_available_gpus()"
   ]
  },
  {
   "cell_type": "code",
   "execution_count": 2,
   "metadata": {},
   "outputs": [
    {
     "name": "stdout",
     "output_type": "stream",
     "text": [
      "WARNING:tensorflow:From C:\\Users\\Canpolat\\Anaconda3\\envs\\masterarbeit\\lib\\site-packages\\keras\\backend\\tensorflow_backend.py:4070: The name tf.nn.max_pool is deprecated. Please use tf.nn.max_pool2d instead.\n",
      "\n",
      "WARNING:tensorflow:Large dropout rate: 0.6 (>0.5). In TensorFlow 2.x, dropout() uses dropout rate instead of keep_prob. Please ensure that this is intended.\n",
      "WARNING:tensorflow:From C:\\Users\\Canpolat\\Anaconda3\\envs\\masterarbeit\\lib\\site-packages\\keras\\backend\\tensorflow_backend.py:422: The name tf.global_variables is deprecated. Please use tf.compat.v1.global_variables instead.\n",
      "\n",
      "WARNING:tensorflow:Large dropout rate: 0.6 (>0.5). In TensorFlow 2.x, dropout() uses dropout rate instead of keep_prob. Please ensure that this is intended.\n",
      "WARNING:tensorflow:Large dropout rate: 0.6 (>0.5). In TensorFlow 2.x, dropout() uses dropout rate instead of keep_prob. Please ensure that this is intended.\n"
     ]
    }
   ],
   "source": [
    "model1 = load_model('C:/Users/Canpolat/Documents/Uni/masterthesis/voter_Entwurf/best_model_voter1.h5')\n",
    "model2 = load_model('C:/Users/Canpolat/Documents/Uni/masterthesis/voter_Entwurf/best_model_voter2.h5')\n",
    "model3 = load_model('C:/Users/Canpolat/Documents/Uni/masterthesis/voter_Entwurf/best_model_voter3.h5')\n",
    "\n",
    "listM = []\n",
    "listM.append(model1)\n",
    "listM.append(model2)\n",
    "listM.append(model3)\n",
    "\n"
   ]
  },
  {
   "cell_type": "code",
   "execution_count": 3,
   "metadata": {},
   "outputs": [
    {
     "name": "stdout",
     "output_type": "stream",
     "text": [
      "Found 465 images belonging to 3 classes.\n"
     ]
    }
   ],
   "source": [
    "test_dir = \"C:/Users/Canpolat/Documents/Uni/masterthesis/potatoes\"\n",
    "test_datagen = ImageDataGenerator(\n",
    "    rescale=1./255\n",
    ")\n",
    "test_generator = test_datagen.flow_from_directory(\n",
    "    test_dir,\n",
    "    target_size=(150, 150),\n",
    "    batch_size=32,\n",
    "    class_mode='categorical',\n",
    "    shuffle=False)"
   ]
  },
  {
   "cell_type": "code",
   "execution_count": 4,
   "metadata": {},
   "outputs": [],
   "source": [
    "def predict(model_list, X, steps, verbose=1):\n",
    "    predictions = list(map(lambda model: model.predict_generator(X, steps), model_list))\n",
    "    #print(predictions)\n",
    "    nb_preds = len(X)\n",
    "    #print(nb_preds)\n",
    "    for i, pred in enumerate(predictions):\n",
    "        pred = list(map(lambda probas: np.argmax(probas, axis=-1), pred))\n",
    "        #print(pred)\n",
    "        #print(nb_preds)\n",
    "        predictions[i] = np.asarray(pred).reshape(465, 1)\n",
    "        #print(predictions[i])\n",
    "    argmax_list = list(np.concatenate(predictions, axis=1))\n",
    "    #print(argmax_list)\n",
    "    #votes = np.asarray(list(map(lambda arr: max(set(arr)), argmax_list)))\n",
    "    \n",
    "    votes = np.asarray(list(map(lambda arr: countOccur(arr), argmax_list)))\n",
    "    #print(votes.tolist())\n",
    "    #print(votes.shape)\n",
    "    return votes.tolist()"
   ]
  },
  {
   "cell_type": "code",
   "execution_count": 5,
   "metadata": {},
   "outputs": [],
   "source": [
    "def countOccur(arr):\n",
    "    axis = 0\n",
    "    u, indices = np.unique(arr, return_inverse=True)\n",
    "    return u[np.argmax(np.apply_along_axis(np.bincount, axis, indices.reshape(arr.shape), None, np.max(indices) + 1), axis=axis)]\n",
    "    #return u[np.argmax(np.bincount(indices))]"
   ]
  },
  {
   "cell_type": "code",
   "execution_count": 6,
   "metadata": {},
   "outputs": [],
   "source": [
    "def getTargetNames(validation_generator):\n",
    "    dictionary = validation_generator.class_indices\n",
    "    result = []\n",
    "    result_indexes = []\n",
    "    for x in dictionary:\n",
    "        #print(x)\n",
    "        result.append(x)\n",
    "        result_indexes.append(dictionary[x])\n",
    "    return result, result_indexes"
   ]
  },
  {
   "cell_type": "code",
   "execution_count": 7,
   "metadata": {},
   "outputs": [],
   "source": [
    "def plotConfusion(confusion, names, validation_generator):\n",
    "    classes = range(3)\n",
    "\n",
    "    # create confusion matrix\n",
    "    fig = plt.figure(figsize=(10,10))\n",
    "    ax = fig.add_subplot(111)\n",
    "    cax = ax.matshow(confusion)\n",
    "    cmap=plt.cm.Blues\n",
    "    plt.imshow(confusion, interpolation='nearest', cmap=cmap)\n",
    "    #plt.title('confusion matrix')\n",
    "\n",
    "    tick_marks = np.arange(len(classes))\n",
    "    plt.xticks(tick_marks, names, rotation=45)\n",
    "    plt.yticks(tick_marks, names)\n",
    "    #plt.yticks(tick_marks, names)\n",
    "\n",
    "    thresh = confusion.max()/2\n",
    "    for i, j in itertools.product(range(confusion.shape[0]), range(confusion.shape[1])):\n",
    "        plt.text(j, i, confusion[i, j], horizontalalignment='center', color='white' if confusion[i, j] > thresh else 'black')\n",
    "\n",
    "        plt.tight_layout()\n",
    "        plt.ylabel('True label')\n",
    "        plt.xlabel('Predicted label')\n",
    "\n",
    "    print('Classification Report')\n",
    "\n",
    "    print(classification_report(validation_generator.classes, y_pred, target_names=names))"
   ]
  },
  {
   "cell_type": "code",
   "execution_count": 8,
   "metadata": {},
   "outputs": [
    {
     "name": "stdout",
     "output_type": "stream",
     "text": [
      "[[1.9625031e-05 1.6447257e-03 9.9833566e-01]\n",
      " [2.0642951e-01 7.9053688e-01 3.0336946e-03]\n",
      " [8.1935865e-01 1.7891446e-01 1.7268618e-03]\n",
      " ...\n",
      " [1.3098064e-01 8.6445624e-01 4.5630578e-03]\n",
      " [8.3001074e-04 9.9917006e-01 1.5111883e-08]\n",
      " [1.4676055e-01 8.5320359e-01 3.5951347e-05]]\n",
      "[[ 44  75  34]\n",
      " [ 99  45   8]\n",
      " [ 45 106   9]]\n",
      "Classification Report\n",
      "              precision    recall  f1-score   support\n",
      "\n",
      "early_blight       0.23      0.29      0.26       153\n",
      "     healthy       0.20      0.30      0.24       152\n",
      " late_blight       0.18      0.06      0.09       160\n",
      "\n",
      "    accuracy                           0.21       465\n",
      "   macro avg       0.20      0.21      0.19       465\n",
      "weighted avg       0.20      0.21      0.19       465\n",
      "\n"
     ]
    },
    {
     "data": {
      "image/png": "[encoded data removed]",
      "text/plain": [
       "<Figure size 720x720 with 1 Axes>"
      ]
     },
     "metadata": {
      "needs_background": "light"
     },
     "output_type": "display_data"
    }
   ],
   "source": [
    "list_of_models = []\n",
    "list_of_models.append(model1)\n",
    "list_of_models.append(model2)\n",
    "list_of_models.append(model3)\n",
    "#result = model1.predict_generator(test_generator, steps = steps)\n",
    "#print(result)\n",
    "steps=np.ceil(465 /32)\n",
    "pred_of_models =predict(list_of_models, test_generator, steps)\n",
    "\n",
    "test_generator.reset()\n",
    "names, index = getTargetNames(test_generator)\n",
    "num_of_test_samples = 465 #1619\n",
    "steps=np.ceil(num_of_test_samples//32)+1\n",
    "Y_pred = model1.predict_generator(test_generator,steps=steps)\n",
    "print(Y_pred)\n",
    "y_pred = pred_of_models\n",
    "#print('Confusion Matrix')\n",
    "confusion = confusion_matrix(test_generator.classes, y_pred, index)\n",
    "print(confusion)\n",
    "\n",
    "plotConfusion(confusion, names, test_generator)\n"
   ]
  },
  {
   "cell_type": "code",
   "execution_count": null,
   "metadata": {},
   "outputs": [],
   "source": []
  }
 ],
 "metadata": {
  "kernelspec": {
   "display_name": "Python 3",
   "language": "python",
   "name": "python3"
  },
  "language_info": {
   "codemirror_mode": {
    "name": "ipython",
    "version": 3
   },
   "file_extension": ".py",
   "mimetype": "text/x-python",
   "name": "python",
   "nbconvert_exporter": "python",
   "pygments_lexer": "ipython3",
   "version": "3.7.4"
  }
 },
 "nbformat": 4,
 "nbformat_minor": 2
}
